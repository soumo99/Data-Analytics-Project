{
  "nbformat": 4,
  "nbformat_minor": 0,
  "metadata": {
    "colab": {
      "provenance": [],
      "authorship_tag": "ABX9TyNZK9HJux0pKFzXjFnYi0Yj",
      "include_colab_link": true
    },
    "kernelspec": {
      "name": "python3",
      "display_name": "Python 3"
    },
    "language_info": {
      "name": "python"
    }
  },
  "cells": [
    {
      "cell_type": "markdown",
      "metadata": {
        "id": "view-in-github",
        "colab_type": "text"
      },
      "source": [
        "<a href=\"https://colab.research.google.com/github/soumo99/Data-Analytics-Project/blob/main/Outliers_Detection_Code_Testing.ipynb\" target=\"_parent\"><img src=\"https://colab.research.google.com/assets/colab-badge.svg\" alt=\"Open In Colab\"/></a>"
      ]
    },
    {
      "cell_type": "markdown",
      "source": [
        "Detecting and Removing Outliers using IQR and boxplot method"
      ],
      "metadata": {
        "id": "-O5UvpcWX2Pe"
      }
    },
    {
      "cell_type": "code",
      "execution_count": null,
      "metadata": {
        "id": "DPXJN23DXqZk"
      },
      "outputs": [],
      "source": [
        "import pandas as pd\n",
        "import matplotlib.pyplot as plt\n",
        "\n",
        "data = pd.read_csv('data.csv')\n",
        "\n",
        "plt.figure(figsize=(8, 6))\n",
        "plt.boxplot(data['column_name'])\n",
        "plt.title('Box Plot of Column')\n",
        "plt.ylabel('Values')\n",
        "plt.show()\n"
      ]
    },
    {
      "cell_type": "markdown",
      "source": [
        "Calculating the IQR values - Lower , Upper and Interquartile range\n"
      ],
      "metadata": {
        "id": "d0W0Ci2qYE1j"
      }
    },
    {
      "cell_type": "code",
      "source": [
        "Q1 = data['columns'].quantile(0.25)\n",
        "Q3 = data['columns'].qunatile(0.75)\n",
        "\n",
        "IQR = Q3 - Q1"
      ],
      "metadata": {
        "id": "oCy08iIIYDfq"
      },
      "execution_count": null,
      "outputs": []
    },
    {
      "cell_type": "markdown",
      "source": [
        "Identifying Outliers"
      ],
      "metadata": {
        "id": "cYKicxQUYg8y"
      }
    },
    {
      "cell_type": "code",
      "source": [
        "lower_bound = Q1 - 1.5*IQR\n",
        "upper_bound = Q3 + 1.5*IQR\n",
        "\n",
        "outliers = data[(data['columns'] < lower_bound) | (data['columns'] > upper_bound)]\n",
        "\n"
      ],
      "metadata": {
        "id": "y8-4NJ7hYjlD"
      },
      "execution_count": null,
      "outputs": []
    },
    {
      "cell_type": "markdown",
      "source": [
        "Visualize the outliers"
      ],
      "metadata": {
        "id": "t_QBv6rdZzMC"
      }
    },
    {
      "cell_type": "code",
      "source": [
        "plt.figure(figsize=(8, 6))\n",
        "plt.boxplot(data['column_name'])\n",
        "plt.scatter(outliers.index + 1, outliers['column_name'], color='r', label='Outliers')\n",
        "plt.title('Box Plot of Column with Outliers')\n",
        "plt.ylabel('Values')\n",
        "plt.legend()\n",
        "plt.show()\n"
      ],
      "metadata": {
        "id": "9mBpj6BoZ10T"
      },
      "execution_count": null,
      "outputs": []
    },
    {
      "cell_type": "markdown",
      "source": [
        "Removing Outliers"
      ],
      "metadata": {
        "id": "8MqqRXYaZ2ly"
      }
    },
    {
      "cell_type": "code",
      "source": [
        "cleaned_data = data[(data['columns'] >= lower_bound) & (data['columns'] <= upper_bound)]"
      ],
      "metadata": {
        "id": "T14MzX7yZ5Cx"
      },
      "execution_count": null,
      "outputs": []
    }
  ]
}